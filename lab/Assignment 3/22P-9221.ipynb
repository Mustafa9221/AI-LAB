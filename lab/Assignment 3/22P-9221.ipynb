{
 "cells": [
  {
   "cell_type": "code",
   "execution_count": 9,
   "metadata": {},
   "outputs": [
    {
     "name": "stdout",
     "output_type": "stream",
     "text": [
      "['/usr/lib/python312.zip', '/usr/lib/python3.12', '/usr/lib/python3.12/lib-dynload', '', '/home/mustafa/Documents/AI/Assignment 3/myenv/lib/python3.12/site-packages']\n"
     ]
    },
    {
     "ename": "ModuleNotFoundError",
     "evalue": "No module named 'sklearn'",
     "output_type": "error",
     "traceback": [
      "\u001b[31m---------------------------------------------------------------------------\u001b[39m",
      "\u001b[31mModuleNotFoundError\u001b[39m                       Traceback (most recent call last)",
      "\u001b[36mCell\u001b[39m\u001b[36m \u001b[39m\u001b[32mIn[9]\u001b[39m\u001b[32m, line 4\u001b[39m\n\u001b[32m      1\u001b[39m \u001b[38;5;28;01mimport\u001b[39;00m\u001b[38;5;250m \u001b[39m\u001b[34;01msys\u001b[39;00m\n\u001b[32m      2\u001b[39m \u001b[38;5;28mprint\u001b[39m(sys.path)  \u001b[38;5;66;03m# Check where Python is looking for packages\u001b[39;00m\n\u001b[32m----> \u001b[39m\u001b[32m4\u001b[39m \u001b[38;5;28;01mimport\u001b[39;00m\u001b[38;5;250m \u001b[39m\u001b[34;01msklearn\u001b[39;00m\n\u001b[32m      5\u001b[39m \u001b[38;5;28mprint\u001b[39m(sklearn.__version__)  \u001b[38;5;66;03m# Verify it's accessible\u001b[39;00m\n\u001b[32m      7\u001b[39m \u001b[38;5;28;01mimport\u001b[39;00m\u001b[38;5;250m \u001b[39m\u001b[34;01mnumpy\u001b[39;00m\u001b[38;5;250m \u001b[39m\u001b[38;5;28;01mas\u001b[39;00m\u001b[38;5;250m \u001b[39m\u001b[34;01mnp\u001b[39;00m\n",
      "\u001b[31mModuleNotFoundError\u001b[39m: No module named 'sklearn'"
     ]
    }
   ],
   "source": [
    "import sys\n",
    "print(sys.path)  # Check where Python is looking for packages\n",
    "\n",
    "import sklearn\n",
    "print(sklearn.__version__)  # Verify it's accessible\n",
    "\n",
    "import numpy as np\n",
    "import pandas as pd\n",
    "from sklearn.model_selection import train_test_split\n",
    "import matplotlib.pyplot as plt\n",
    "import seaborn as sns\n",
    "\n",
    "# Load the dataset\n",
    "knn_file_path = \"/mnt/data/knn_dataset.csv\"\n",
    "df = pd.read_csv(knn_file_path)\n",
    "\n",
    "# Prepare feature and target variables\n",
    "X = df.iloc[:, :-1].values  # Feature columns\n",
    "y = df.iloc[:, -1].values   # Target column\n",
    "\n",
    "# Split into training and test sets\n",
    "X_train, X_test, y_train, y_test = train_test_split(X, y, test_size=0.2, random_state=42)\n",
    "\n",
    "# Function to compute Euclidean distance\n",
    "def euclidean_distance(point1, point2):\n",
    "    return np.sqrt(np.sum((np.array(point1) - np.array(point2)) ** 2))\n",
    "\n",
    "# KNN Classifier from Scratch\n",
    "class KNNClassifier:\n",
    "    def __init__(self, k=3):\n",
    "        self.k = k\n",
    "    \n",
    "    def fit(self, X_train, y_train):\n",
    "        self.X_train = X_train\n",
    "        self.y_train = y_train\n",
    "    \n",
    "    def predict(self, X_test):\n",
    "        predictions = []\n",
    "        for test_point in X_test:\n",
    "            distances = [euclidean_distance(test_point, x) for x in self.X_train]\n",
    "            k_indices = np.argsort(distances)[:self.k]\n",
    "            k_nearest_labels = [self.y_train[i] for i in k_indices]\n",
    "            prediction = max(set(k_nearest_labels), key=k_nearest_labels.count)\n",
    "            predictions.append(prediction)\n",
    "        return predictions\n",
    "\n",
    "# Train the custom KNN model\n",
    "knn_model = KNNClassifier(k=3)\n",
    "knn_model.fit(X_train, y_train)\n",
    "custom_predictions = knn_model.predict(X_test)\n",
    "\n",
    "# Evaluate custom KNN\n",
    "accuracy = np.mean(custom_predictions == y_test)\n",
    "print(f\"Custom KNN Accuracy: {accuracy:.2f}\")\n"
   ]
  },
  {
   "cell_type": "code",
   "execution_count": null,
   "metadata": {},
   "outputs": [],
   "source": [
    "from sklearn.neighbors import KNeighborsClassifier\n",
    "\n",
    "# KNN using Scikit-learn\n",
    "knn_sklearn = KNeighborsClassifier(n_neighbors=3)\n",
    "knn_sklearn.fit(X_train, y_train)\n",
    "y_pred_sklearn = knn_sklearn.predict(X_test)\n",
    "accuracy_sklearn = accuracy_score(y_test, y_pred_sklearn)\n",
    "print(f\"KNN using Scikit-learn Accuracy: {accuracy_sklearn:.2f}\")"
   ]
  },
  {
   "cell_type": "code",
   "execution_count": null,
   "metadata": {},
   "outputs": [],
   "source": [
    "# Plot comparison\n",
    "labels = ['KNN from Scratch', 'KNN using Scikit-learn']\n",
    "accuracies = [accuracy_scratch, accuracy_sklearn]\n",
    "\n",
    "plt.bar(labels, accuracies, color=['blue', 'green'])\n",
    "plt.ylabel('Accuracy')\n",
    "plt.title('KNN: Scratch vs Scikit-learn')\n",
    "plt.show()"
   ]
  },
  {
   "cell_type": "code",
   "execution_count": null,
   "metadata": {},
   "outputs": [],
   "source": [
    "from collections import defaultdict\n",
    "\n",
    "# Naive Bayes Classifier\n",
    "class NaiveBayes:\n",
    "    def __init__(self):\n",
    "        self.priors = {}\n",
    "        self.likelihoods = defaultdict(lambda: {})\n",
    "\n",
    "    def fit(self, X, y):\n",
    "        self.classes = np.unique(y)\n",
    "        for c in self.classes:\n",
    "            X_c = X[y == c]\n",
    "            self.priors[c] = X_c.shape[0] / X.shape[0]\n",
    "            for feature in range(X.shape[1]):\n",
    "                self.likelihoods[feature][c] = {\n",
    "                    'mean': X_c[:, feature].mean(),\n",
    "                    'std': X_c[:, feature].std()\n",
    "                }\n",
    "\n",
    "    def predict(self, X):\n",
    "        predictions = [self._predict(x) for x in X]\n",
    "        return np.array(predictions)\n",
    "\n",
    "    def _predict(self, x):\n",
    "        posteriors = {}\n",
    "        for c in self.classes:\n",
    "            posterior = self.priors[c]\n",
    "            for feature, value in enumerate(x):\n",
    "                mean = self.likelihoods[feature][c]['mean']\n",
    "                std = self.likelihoods[feature][c]['std']\n",
    "                posterior *= self._gaussian_pdf(value, mean, std)\n",
    "            posteriors[c] = posterior\n",
    "        return max(posteriors, key=posteriors.get)\n",
    "\n",
    "    def _gaussian_pdf(self, x, mean, std):\n",
    "        exponent = np.exp(-((x - mean) ** 2 / (2 * std ** 2)))\n",
    "        return (1 / (np.sqrt(2 * np.pi) * std)) * exponent\n",
    "\n",
    "# Load dataset\n",
    "data = np.genfromtxt('naive_bayes_dataset.csv', delimiter=',', dtype=str, skip_header=1)\n",
    "X = data[:, :-1]\n",
    "y = data[:, -1]\n",
    "\n",
    "# Convert categorical features to numerical\n",
    "from sklearn.preprocessing import LabelEncoder\n",
    "label_encoders = [LabelEncoder() for _ in range(X.shape[1])]\n",
    "X_encoded = np.array([label_encoders[i].fit_transform(X[:, i]) for i in range(X.shape[1])]).T\n",
    "\n",
    "# Split dataset\n",
    "X_train, X_test, y_train, y_test = train_test_split(X_encoded, y, test_size=0.2, random_state=42)\n",
    "\n",
    "# Naive Bayes from scratch\n",
    "nb_scratch = NaiveBayes()\n",
    "nb_scratch.fit(X_train, y_train)\n",
    "y_pred_scratch = nb_scratch.predict(X_test)\n",
    "accuracy_scratch = accuracy_score(y_test, y_pred_scratch)\n",
    "print(f\"Naive Bayes from Scratch Accuracy: {accuracy_scratch:.2f}\")"
   ]
  },
  {
   "cell_type": "code",
   "execution_count": null,
   "metadata": {},
   "outputs": [],
   "source": [
    "from sklearn.naive_bayes import GaussianNB\n",
    "\n",
    "# Naive Bayes using Scikit-learn\n",
    "nb_sklearn = GaussianNB()\n",
    "nb_sklearn.fit(X_train, y_train)\n",
    "y_pred_sklearn = nb_sklearn.predict(X_test)\n",
    "accuracy_sklearn = accuracy_score(y_test, y_pred_sklearn)\n",
    "print(f\"Naive Bayes using Scikit-learn Accuracy: {accuracy_sklearn:.2f}\")"
   ]
  },
  {
   "cell_type": "code",
   "execution_count": 11,
   "metadata": {},
   "outputs": [
    {
     "ename": "NameError",
     "evalue": "name 'accuracy_scratch' is not defined",
     "output_type": "error",
     "traceback": [
      "\u001b[31m---------------------------------------------------------------------------\u001b[39m",
      "\u001b[31mNameError\u001b[39m                                 Traceback (most recent call last)",
      "\u001b[36mCell\u001b[39m\u001b[36m \u001b[39m\u001b[32mIn[11]\u001b[39m\u001b[32m, line 3\u001b[39m\n\u001b[32m      1\u001b[39m \u001b[38;5;66;03m# Plot comparison\u001b[39;00m\n\u001b[32m      2\u001b[39m labels = [\u001b[33m'\u001b[39m\u001b[33mNaive Bayes from Scratch\u001b[39m\u001b[33m'\u001b[39m, \u001b[33m'\u001b[39m\u001b[33mNaive Bayes using Scikit-learn\u001b[39m\u001b[33m'\u001b[39m]\n\u001b[32m----> \u001b[39m\u001b[32m3\u001b[39m accuracies = [\u001b[43maccuracy_scratch\u001b[49m, accuracy_sklearn]\n\u001b[32m      5\u001b[39m plt.bar(labels, accuracies, color=[\u001b[33m'\u001b[39m\u001b[33mblue\u001b[39m\u001b[33m'\u001b[39m, \u001b[33m'\u001b[39m\u001b[33mgreen\u001b[39m\u001b[33m'\u001b[39m])\n\u001b[32m      6\u001b[39m plt.ylabel(\u001b[33m'\u001b[39m\u001b[33mAccuracy\u001b[39m\u001b[33m'\u001b[39m)\n",
      "\u001b[31mNameError\u001b[39m: name 'accuracy_scratch' is not defined"
     ]
    }
   ],
   "source": [
    "# Plot comparison\n",
    "labels = ['Naive Bayes from Scratch', 'Naive Bayes using Scikit-learn']\n",
    "accuracies = [accuracy_scratch, accuracy_sklearn]\n",
    "\n",
    "plt.bar(labels, accuracies, color=['blue', 'green'])\n",
    "plt.ylabel('Accuracy')\n",
    "plt.title('Naive Bayes: Scratch vs Scikit-learn')\n",
    "plt.show()"
   ]
  },
  {
   "cell_type": "code",
   "execution_count": null,
   "metadata": {},
   "outputs": [],
   "source": [
    "# KNN Comparison Graph\n",
    "labels = ['KNN from Scratch', 'KNN using Scikit-learn']\n",
    "accuracies = [accuracy_scratch, accuracy_sklearn]\n",
    "\n",
    "plt.bar(labels, accuracies, color=['blue', 'green'])\n",
    "plt.ylabel('Accuracy')\n",
    "plt.title('KNN: Scratch vs Scikit-learn')\n",
    "plt.show()"
   ]
  },
  {
   "cell_type": "code",
   "execution_count": null,
   "metadata": {},
   "outputs": [],
   "source": [
    "# Naive Bayes Comparison Graph\n",
    "labels = ['Naive Bayes from Scratch', 'Naive Bayes using Scikit-learn']\n",
    "accuracies = [accuracy_scratch, accuracy_sklearn]\n",
    "\n",
    "plt.bar(labels, accuracies, color=['blue', 'green'])\n",
    "plt.ylabel('Accuracy')\n",
    "plt.title('Naive Bayes: Scratch vs Scikit-learn')\n",
    "plt.show()"
   ]
  }
 ],
 "metadata": {
  "kernelspec": {
   "display_name": "myenv",
   "language": "python",
   "name": "python3"
  },
  "language_info": {
   "codemirror_mode": {
    "name": "ipython",
    "version": 3
   },
   "file_extension": ".py",
   "mimetype": "text/x-python",
   "name": "python",
   "nbconvert_exporter": "python",
   "pygments_lexer": "ipython3",
   "version": "3.12.3"
  }
 },
 "nbformat": 4,
 "nbformat_minor": 2
}
