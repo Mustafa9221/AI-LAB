{
 "cells": [
  {
   "cell_type": "markdown",
   "metadata": {},
   "source": [
    "<b><h1><br>TASK 1<b><h2>Simple Reflex Agent "
   ]
  },
  {
   "cell_type": "code",
   "execution_count": 9,
   "metadata": {},
   "outputs": [
    {
     "name": "stdout",
     "output_type": "stream",
     "text": [
      "Normall State\n",
      "If Temparature Rised press t: \n",
      "If smoke Detected press s: \n",
      "Stop the Agent : e\n",
      "----------------------------------------------\n"
     ]
    }
   ],
   "source": [
    "class SmokeDetector:\n",
    "    def detected(sefl):\n",
    "        print(\"Smoke Detected\")\n",
    "\n",
    "    def performtask(self):\n",
    "        print(\"Water Sprinkeld\")\n",
    "\n",
    "class FireDetector:\n",
    "    def detected(self):\n",
    "        print(\"Fire Detected\")\n",
    "\n",
    "    def performtask(self):\n",
    "        print(\"Calling Fire Department\")\n",
    "\n",
    "class Agent:\n",
    "    def __init__(self):\n",
    "        self.controller=None\n",
    "    def stateChanged(self,state):\n",
    "        self.controller=state\n",
    "    def Detected(self):\n",
    "        if(self.controller==None):\n",
    "            print(\"Normall State\")\n",
    "            return \n",
    "        self.controller.detected()\n",
    "        self.controller.performtask()\n",
    "\n",
    "\n",
    "if __name__==\"__main__\":\n",
    "    agent = Agent()\n",
    "    while True:\n",
    "        agent.Detected()\n",
    "        print(\"If Temparature Rised press t: \")\n",
    "        print(\"If smoke Detected press s: \")\n",
    "        print(\"Stop the Agent : e\")\n",
    "        sensor= (input(\"Enter : \")[0]).lower()\n",
    "        print(\"----------------------------------------------\")\n",
    "        if(sensor==\"t\"):\n",
    "            agent.stateChanged(FireDetector())\n",
    "        elif(sensor=='s'):\n",
    "            agent.stateChanged(SmokeDetector())\n",
    "        elif(sensor==\"e\"):\n",
    "            break;\n",
    "        print(\"---------------------------------------------\")\n",
    "        "
   ]
  },
  {
   "cell_type": "markdown",
   "metadata": {},
   "source": [
    "<b><h1>TASK 2<BR><B><H3>AUTO WATER SYSTEM AGENT"
   ]
  },
  {
   "cell_type": "code",
   "execution_count": null,
   "metadata": {},
   "outputs": [],
   "source": [
    "class Agent:\n",
    "    def __init__(self,controller):\n",
    "        self.controller=controller\n",
    "    def Sensored(self):\n",
    "        self.controller.changeState()\n",
    "        self.controller.do()\n",
    "\n",
    "\n",
    "class UnitController:\n",
    "    def __init__(self):\n",
    "        self.state=None\n",
    "    def changeState(self,state):\n",
    "        self.state=state\n",
    "    def do():\n",
    "        print(\"Doing\")\n",
    "\n",
    "class DrySoil:\n",
    "    def operation(self):\n",
    "        print(\"Activate Water system to water the plants\")\n",
    "\n",
    "class MoistureSoil:\n",
    "    def operation(self):\n",
    "        print(\"keeps the watering system off to avoid over watering the plants.\")\n",
    "\n",
    "class WetSoil:\n",
    "    def operation(self):\n",
    "        print(\"deactivates the watering system to prevent waterlogging.\")"
   ]
  }
 ],
 "metadata": {
  "kernelspec": {
   "display_name": "labenv",
   "language": "python",
   "name": "python3"
  },
  "language_info": {
   "codemirror_mode": {
    "name": "ipython",
    "version": 3
   },
   "file_extension": ".py",
   "mimetype": "text/x-python",
   "name": "python",
   "nbconvert_exporter": "python",
   "pygments_lexer": "ipython3",
   "version": "3.12.3"
  }
 },
 "nbformat": 4,
 "nbformat_minor": 2
}
