{
 "cells": [
  {
   "cell_type": "markdown",
   "metadata": {},
   "source": [
    "<h1><b><Center>Question 1: Depth-First Search for File Search"
   ]
  },
  {
   "cell_type": "code",
   "execution_count": 13,
   "metadata": {},
   "outputs": [
    {
     "name": "stdout",
     "output_type": "stream",
     "text": [
      "root/directories/dir2/directories/subdir2/files/file5.txt\n"
     ]
    }
   ],
   "source": [
    "directory_tree = {\n",
    "    'root': {\n",
    "        'files': ['file1.txt', 'file2.txt'],\n",
    "        'directories': {\n",
    "            'dir1': {\n",
    "                'files': ['file3.txt'],\n",
    "                'directories': {\n",
    "                    'subdir1': {\n",
    "                        'files': ['target_file.txt'],\n",
    "                        'directories': {}\n",
    "                    }\n",
    "                }\n",
    "            },\n",
    "            'dir2': {\n",
    "                'files': ['file4.txt', 'target_file.txt'],\n",
    "                'directories': {\n",
    "                    'subdir2': {\n",
    "                        'files': ['file5.txt'],\n",
    "                        'directories': {}\n",
    "                    }\n",
    "                }\n",
    "            }\n",
    "        }\n",
    "    }\n",
    "}\n",
    "\n",
    "start = 'root'\n",
    "goal = 'file5.txt'\n",
    "\n",
    "def DFS(graph, start, goal):\n",
    "    def recursive(node, path):\n",
    "        # Check files in current node\n",
    "        for file in node.get('files', []):\n",
    "            if file == goal:\n",
    "                return path + ['files', file]\n",
    "\n",
    "        # Traverse child directories\n",
    "        for dir_name, child in node.get('directories', {}).items():\n",
    "            new_path = recursive(child, path + ['directories', dir_name])\n",
    "            if new_path:\n",
    "                return new_path\n",
    "\n",
    "        return None\n",
    "\n",
    "    return recursive(graph[start], [start])\n",
    "\n",
    "path = DFS(directory_tree, start, goal)\n",
    "\n",
    "if path is None:\n",
    "    print(\"File not found\")\n",
    "else:\n",
    "    result = \"/\".join(path) \n",
    "    print(result)\n"
   ]
  },
  {
   "cell_type": "markdown",
   "metadata": {},
   "source": [
    "<h1><b><Center>Question 2: Breadth-First Search for Social Network\n",
    "Recommendations"
   ]
  },
  {
   "cell_type": "code",
   "execution_count": 1,
   "metadata": {},
   "outputs": [
    {
     "name": "stdout",
     "output_type": "stream",
     "text": [
      "Users two degrees away from Ahmed: {'Emaan', 'Farhan', 'Danish'}\n"
     ]
    }
   ],
   "source": [
    "from collections import deque\n",
    "\n",
    "network = {\n",
    "    'Ahmed': ['Bilal', 'Chaudhry'],\n",
    "    'Bilal': ['Ahmed', 'Danish', 'Emaan'],\n",
    "    'Chaudhry': ['Ahmed', 'Farhan'],\n",
    "    'Danish': ['Bilal', 'Gulzar'],\n",
    "    'Emaan': ['Bilal'],\n",
    "    'Farhan': ['Chaudhry'],\n",
    "    'Gulzar': ['Danish']\n",
    "}\n",
    "\n",
    "def bfs(network, user):\n",
    "    queue = deque([(user, 0)])\n",
    "    visited = set([user])\n",
    "    level_1 = set(network[user])\n",
    "    level_2 = set()\n",
    "\n",
    "    while queue:\n",
    "        current, level = queue.popleft()\n",
    "\n",
    "        if level == 2:\n",
    "            level_2.add(current)\n",
    "            continue\n",
    "\n",
    "        for friend in network.get(current, []):\n",
    "            if friend not in visited:\n",
    "                visited.add(friend)\n",
    "                queue.append((friend, level + 1))\n",
    "\n",
    "    level_2 -= level_1\n",
    "    level_2.discard(user)\n",
    "\n",
    "    return level_2\n",
    "\n",
    "start_user = 'Ahmed'\n",
    "recommendations = bfs(network, start_user)\n",
    "print(f\"Users two degrees away from {start_user}: {recommendations}\")\n"
   ]
  },
  {
   "cell_type": "code",
   "execution_count": 21,
   "metadata": {},
   "outputs": [
    {
     "name": "stdout",
     "output_type": "stream",
     "text": [
      "{}\n"
     ]
    }
   ],
   "source": [
    "print(directory_tree['root']['directories'].get('directories',{}))"
   ]
  },
  {
   "cell_type": "code",
   "execution_count": null,
   "metadata": {},
   "outputs": [
    {
     "name": "stdout",
     "output_type": "stream",
     "text": [
      "Bilal\n",
      "Ahmed\n",
      "Danish\n",
      "Emaan\n",
      "Chaudhry\n",
      "Ahmed\n",
      "Farhan\n",
      "['Danish', 'Emaan', 'Farhan']\n"
     ]
    }
   ],
   "source": [
    "network = {\n",
    "    'Ahmed': ['Bilal', 'Chaudhry'],\n",
    "    'Bilal': ['Ahmed', 'Danish', 'Emaan'],\n",
    "    'Chaudhry': ['Ahmed', 'Farhan'],\n",
    "    'Danish': ['Bilal', 'Gulzar'],\n",
    "    'Emaan': ['Bilal'],\n",
    "    'Farhan': ['Chaudhry'],\n",
    "    'Gulzar': ['Danish']\n",
    "}\n",
    "\n",
    "\n",
    "\n",
    "start = \"Ahmed\"\n",
    "\n",
    "def bfs(graph,start):\n",
    "    path=[]\n",
    "    for node in graph[start]:\n",
    "        for subnode in graph[node]:\n",
    "            if subnode!=start:\n",
    "               path= path+[subnode]\n",
    "    return path\n",
    "\n",
    "print(bfs(network,start))"
   ]
  },
  {
   "cell_type": "code",
   "execution_count": null,
   "metadata": {},
   "outputs": [],
   "source": []
  }
 ],
 "metadata": {
  "kernelspec": {
   "display_name": "jupyter-venv",
   "language": "python",
   "name": "python3"
  },
  "language_info": {
   "codemirror_mode": {
    "name": "ipython",
    "version": 3
   },
   "file_extension": ".py",
   "mimetype": "text/x-python",
   "name": "python",
   "nbconvert_exporter": "python",
   "pygments_lexer": "ipython3",
   "version": "3.12.3"
  }
 },
 "nbformat": 4,
 "nbformat_minor": 2
}
