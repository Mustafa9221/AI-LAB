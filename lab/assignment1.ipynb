{
 "cells": [
  {
   "cell_type": "markdown",
   "metadata": {},
   "source": [
    "<h1><b><Center> Assignment 01<br><hr>"
   ]
  },
  {
   "cell_type": "markdown",
   "metadata": {},
   "source": [
    "<h2><b><Center>\n",
    "Name    :   Mustafa<br>\n",
    "Roll-No :   22P-9221<br>\n",
    "Section :   BCS-6C<br><hr>"
   ]
  },
  {
   "cell_type": "code",
   "execution_count": null,
   "metadata": {},
   "outputs": [
    {
     "name": "stdout",
     "output_type": "stream",
     "text": [
      "Current time is :  23\n",
      "Current Room Temprater  19 c\n",
      "Current time is :  23\n",
      "Current Room Temprater  19 c\n"
     ]
    }
   ],
   "source": [
    "import datetime\n",
    "import time\n",
    "class Agent:\n",
    "    def __init__(self):\n",
    "        temp=None\n",
    "    def Percepts(self,time):\n",
    "        self.Auctuator(time)\n",
    "    def Auctuator(self,time):\n",
    "        print(\"Current time is : \",time)\n",
    "        if time>=6 and time<=9:\n",
    "            self.setTemp(22)\n",
    "        elif time>=12 and time<=15:\n",
    "            self.setTemp(24)\n",
    "        elif time>=18 and time<=22:\n",
    "            self.setTemp(21)\n",
    "        elif time>=22 or time<=6:\n",
    "            self.setTemp(19)\n",
    "    def setTemp(self,temp):\n",
    "        self.temp=temp\n",
    "        print(\"Current Room Temprater \",self.temp,\"c\")\n",
    "\n",
    "agent=Agent()\n",
    "while(True):\n",
    "    current_time = datetime.datetime.now()\n",
    "    agent.Percepts(int(current_time.strftime(\"%H\")))\n",
    "    time.sleep(10)"
   ]
  },
  {
   "cell_type": "code",
   "execution_count": 12,
   "metadata": {},
   "outputs": [
    {
     "name": "stdout",
     "output_type": "stream",
     "text": [
      "Starting Temperature is :  20\n",
      "Cool Down it the temp is increasing\n",
      "Now the Temperature is :  22\n",
      "Cool Down it the temp is increasing\n",
      "Now the Temperature is :  24\n",
      "Heat it cause temp is decreasing\n",
      "Now the Temperature is :  21\n",
      "Heat it cause temp is decreasing\n",
      "Now the Temperature is :  19\n",
      "Do Nothing temp is nor increasing nor decreasing\n",
      "Now the Temperature is :  19\n"
     ]
    }
   ],
   "source": [
    "import random\n",
    "import datetime\n",
    "def SmartThermostate(time,temp):\n",
    "    global ac_temp\n",
    "    if temp>ac_temp:\n",
    "        print(\"Cool Down it the temp is increasing\")\n",
    "    elif temp<ac_temp:\n",
    "        print(\"Heat it cause temp is decreasing\")\n",
    "    else:\n",
    "        print(\"Do Nothing temp is nor increasing nor decreasing\")\n",
    "    ac_temp=temp\n",
    "    print(\"Now the Temperature is : \",ac_temp)\n",
    "\n",
    "ac_temp=20\n",
    "print(\"Starting Temperature is : \",ac_temp)\n",
    "for i in [7,14,20,24,24]:\n",
    "    time = i #int(datetime.datetime.now().strftime(\"%H\"))\n",
    "    if time>=6 and time<=9:\n",
    "        temp=22\n",
    "    elif time>=12 and time<=15:\n",
    "        temp=24\n",
    "    elif time>=18 and time<=22:\n",
    "        temp=21\n",
    "    elif time>=22 or time<=6:\n",
    "        temp=19\n",
    "    SmartThermostate(time,temp)"
   ]
  },
  {
   "cell_type": "code",
   "execution_count": null,
   "metadata": {},
   "outputs": [],
   "source": []
  }
 ],
 "metadata": {
  "kernelspec": {
   "display_name": "jupyter-venv",
   "language": "python",
   "name": "python3"
  },
  "language_info": {
   "codemirror_mode": {
    "name": "ipython",
    "version": 3
   },
   "file_extension": ".py",
   "mimetype": "text/x-python",
   "name": "python",
   "nbconvert_exporter": "python",
   "pygments_lexer": "ipython3",
   "version": "3.12.3"
  }
 },
 "nbformat": 4,
 "nbformat_minor": 2
}
