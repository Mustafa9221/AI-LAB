{
  "cells": [
    {
      "cell_type": "code",
      "execution_count": null,
      "metadata": {
        "id": "aIbOmJm6zAwd"
      },
      "outputs": [],
      "source": [
        "import numpy as np\n",
        "import pandas as pd\n",
        "import matplotlib.pyplot as plt\n",
        "from sklearn.cluster import KMeans"
      ]
    },
    {
      "cell_type": "code",
      "execution_count": null,
      "metadata": {
        "id": "1ttGwJ8mzAwe",
        "outputId": "c81f07ab-ded6-4f47-81b1-6544946097bf"
      },
      "outputs": [
        {
          "data": {
            "text/html": [
              "<div>\n",
              "<style scoped>\n",
              "    .dataframe tbody tr th:only-of-type {\n",
              "        vertical-align: middle;\n",
              "    }\n",
              "\n",
              "    .dataframe tbody tr th {\n",
              "        vertical-align: top;\n",
              "    }\n",
              "\n",
              "    .dataframe thead th {\n",
              "        text-align: right;\n",
              "    }\n",
              "</style>\n",
              "<table border=\"1\" class=\"dataframe\">\n",
              "  <thead>\n",
              "    <tr style=\"text-align: right;\">\n",
              "      <th></th>\n",
              "      <th>Country</th>\n",
              "      <th>Latitude</th>\n",
              "      <th>Longitude</th>\n",
              "      <th>Language</th>\n",
              "    </tr>\n",
              "  </thead>\n",
              "  <tbody>\n",
              "    <tr>\n",
              "      <th>0</th>\n",
              "      <td>USA</td>\n",
              "      <td>44.97</td>\n",
              "      <td>-103.77</td>\n",
              "      <td>English</td>\n",
              "    </tr>\n",
              "    <tr>\n",
              "      <th>1</th>\n",
              "      <td>Canada</td>\n",
              "      <td>62.40</td>\n",
              "      <td>-96.80</td>\n",
              "      <td>English</td>\n",
              "    </tr>\n",
              "    <tr>\n",
              "      <th>2</th>\n",
              "      <td>France</td>\n",
              "      <td>46.75</td>\n",
              "      <td>2.40</td>\n",
              "      <td>French</td>\n",
              "    </tr>\n",
              "    <tr>\n",
              "      <th>3</th>\n",
              "      <td>UK</td>\n",
              "      <td>54.01</td>\n",
              "      <td>-2.53</td>\n",
              "      <td>English</td>\n",
              "    </tr>\n",
              "    <tr>\n",
              "      <th>4</th>\n",
              "      <td>Germany</td>\n",
              "      <td>51.15</td>\n",
              "      <td>10.40</td>\n",
              "      <td>German</td>\n",
              "    </tr>\n",
              "    <tr>\n",
              "      <th>5</th>\n",
              "      <td>Australia</td>\n",
              "      <td>-25.45</td>\n",
              "      <td>133.11</td>\n",
              "      <td>English</td>\n",
              "    </tr>\n",
              "  </tbody>\n",
              "</table>\n",
              "</div>"
            ],
            "text/plain": [
              "     Country  Latitude  Longitude Language\n",
              "0        USA     44.97    -103.77  English\n",
              "1     Canada     62.40     -96.80  English\n",
              "2     France     46.75       2.40   French\n",
              "3         UK     54.01      -2.53  English\n",
              "4    Germany     51.15      10.40   German\n",
              "5  Australia    -25.45     133.11  English"
            ]
          },
          "execution_count": 2,
          "metadata": {},
          "output_type": "execute_result"
        }
      ],
      "source": [
        "data = pd.read_csv('country.csv')\n",
        "data"
      ]
    },
    {
      "cell_type": "code",
      "execution_count": null,
      "metadata": {
        "id": "5zJ1zSv1zAwf",
        "outputId": "4c922a6e-8306-4ae3-872d-0456c2f516e7"
      },
      "outputs": [
        {
          "data": {
            "text/plain": [
              "(6, 4)"
            ]
          },
          "execution_count": 3,
          "metadata": {},
          "output_type": "execute_result"
        }
      ],
      "source": [
        "data.shape"
      ]
    },
    {
      "cell_type": "code",
      "execution_count": null,
      "metadata": {
        "id": "47-ptQxAzAwg",
        "outputId": "1dd933ca-4128-44fb-a042-edbc905af018"
      },
      "outputs": [
        {
          "data": {
            "text/html": [
              "<div>\n",
              "<style scoped>\n",
              "    .dataframe tbody tr th:only-of-type {\n",
              "        vertical-align: middle;\n",
              "    }\n",
              "\n",
              "    .dataframe tbody tr th {\n",
              "        vertical-align: top;\n",
              "    }\n",
              "\n",
              "    .dataframe thead th {\n",
              "        text-align: right;\n",
              "    }\n",
              "</style>\n",
              "<table border=\"1\" class=\"dataframe\">\n",
              "  <thead>\n",
              "    <tr style=\"text-align: right;\">\n",
              "      <th></th>\n",
              "      <th>Latitude</th>\n",
              "      <th>Longitude</th>\n",
              "    </tr>\n",
              "  </thead>\n",
              "  <tbody>\n",
              "    <tr>\n",
              "      <th>0</th>\n",
              "      <td>44.97</td>\n",
              "      <td>-103.77</td>\n",
              "    </tr>\n",
              "    <tr>\n",
              "      <th>1</th>\n",
              "      <td>62.40</td>\n",
              "      <td>-96.80</td>\n",
              "    </tr>\n",
              "    <tr>\n",
              "      <th>2</th>\n",
              "      <td>46.75</td>\n",
              "      <td>2.40</td>\n",
              "    </tr>\n",
              "    <tr>\n",
              "      <th>3</th>\n",
              "      <td>54.01</td>\n",
              "      <td>-2.53</td>\n",
              "    </tr>\n",
              "    <tr>\n",
              "      <th>4</th>\n",
              "      <td>51.15</td>\n",
              "      <td>10.40</td>\n",
              "    </tr>\n",
              "    <tr>\n",
              "      <th>5</th>\n",
              "      <td>-25.45</td>\n",
              "      <td>133.11</td>\n",
              "    </tr>\n",
              "  </tbody>\n",
              "</table>\n",
              "</div>"
            ],
            "text/plain": [
              "   Latitude  Longitude\n",
              "0     44.97    -103.77\n",
              "1     62.40     -96.80\n",
              "2     46.75       2.40\n",
              "3     54.01      -2.53\n",
              "4     51.15      10.40\n",
              "5    -25.45     133.11"
            ]
          },
          "execution_count": 4,
          "metadata": {},
          "output_type": "execute_result"
        }
      ],
      "source": [
        "x = data.iloc[:,1:3]\n",
        "x"
      ]
    },
    {
      "cell_type": "code",
      "execution_count": null,
      "metadata": {
        "id": "BnBtKBfazAwh",
        "outputId": "1ffb9216-35af-4aaa-d120-274d2a5aad43"
      },
      "outputs": [
        {
          "data": {
            "text/html": [
              "<div>\n",
              "<style scoped>\n",
              "    .dataframe tbody tr th:only-of-type {\n",
              "        vertical-align: middle;\n",
              "    }\n",
              "\n",
              "    .dataframe tbody tr th {\n",
              "        vertical-align: top;\n",
              "    }\n",
              "\n",
              "    .dataframe thead th {\n",
              "        text-align: right;\n",
              "    }\n",
              "</style>\n",
              "<table border=\"1\" class=\"dataframe\">\n",
              "  <thead>\n",
              "    <tr style=\"text-align: right;\">\n",
              "      <th></th>\n",
              "      <th>Latitude</th>\n",
              "      <th>Longitude</th>\n",
              "    </tr>\n",
              "  </thead>\n",
              "  <tbody>\n",
              "    <tr>\n",
              "      <th>count</th>\n",
              "      <td>6.000000</td>\n",
              "      <td>6.000000</td>\n",
              "    </tr>\n",
              "    <tr>\n",
              "      <th>mean</th>\n",
              "      <td>38.971667</td>\n",
              "      <td>-9.531667</td>\n",
              "    </tr>\n",
              "    <tr>\n",
              "      <th>std</th>\n",
              "      <td>32.155820</td>\n",
              "      <td>86.523904</td>\n",
              "    </tr>\n",
              "    <tr>\n",
              "      <th>min</th>\n",
              "      <td>-25.450000</td>\n",
              "      <td>-103.770000</td>\n",
              "    </tr>\n",
              "    <tr>\n",
              "      <th>25%</th>\n",
              "      <td>45.415000</td>\n",
              "      <td>-73.232500</td>\n",
              "    </tr>\n",
              "    <tr>\n",
              "      <th>50%</th>\n",
              "      <td>48.950000</td>\n",
              "      <td>-0.065000</td>\n",
              "    </tr>\n",
              "    <tr>\n",
              "      <th>75%</th>\n",
              "      <td>53.295000</td>\n",
              "      <td>8.400000</td>\n",
              "    </tr>\n",
              "    <tr>\n",
              "      <th>max</th>\n",
              "      <td>62.400000</td>\n",
              "      <td>133.110000</td>\n",
              "    </tr>\n",
              "  </tbody>\n",
              "</table>\n",
              "</div>"
            ],
            "text/plain": [
              "        Latitude   Longitude\n",
              "count   6.000000    6.000000\n",
              "mean   38.971667   -9.531667\n",
              "std    32.155820   86.523904\n",
              "min   -25.450000 -103.770000\n",
              "25%    45.415000  -73.232500\n",
              "50%    48.950000   -0.065000\n",
              "75%    53.295000    8.400000\n",
              "max    62.400000  133.110000"
            ]
          },
          "execution_count": 5,
          "metadata": {},
          "output_type": "execute_result"
        }
      ],
      "source": [
        "x.describe()"
      ]
    },
    {
      "cell_type": "code",
      "execution_count": null,
      "metadata": {
        "id": "orY5gm4KzAwh",
        "outputId": "b7af6409-ba53-4fe9-c860-e3eb5e410319"
      },
      "outputs": [
        {
          "data": {
            "text/plain": [
              "<matplotlib.collections.PathCollection at 0x7fd3dc1b9e50>"
            ]
          },
          "execution_count": 6,
          "metadata": {},
          "output_type": "execute_result"
        },
        {
          "data": {
            "image/png": "[encoded data removed]",
            "text/plain": [
              "<Figure size 432x288 with 1 Axes>"
            ]
          },
          "metadata": {
            "needs_background": "light"
          },
          "output_type": "display_data"
        }
      ],
      "source": [
        "plt.scatter(x['Longitude'],x['Latitude'])"
      ]
    },
    {
      "cell_type": "code",
      "execution_count": null,
      "metadata": {
        "id": "V-_sZMuxzAwi",
        "outputId": "bc92f690-788e-42dd-d868-c29badd4ee3c"
      },
      "outputs": [
        {
          "data": {
            "text/plain": [
              "KMeans(n_clusters=3)"
            ]
          },
          "execution_count": 7,
          "metadata": {},
          "output_type": "execute_result"
        }
      ],
      "source": [
        "kmeans = KMeans(3)\n",
        "kmeans.fit(x)"
      ]
    },
    {
      "cell_type": "code",
      "execution_count": null,
      "metadata": {
        "id": "Bwh1xx3szAwi",
        "outputId": "01dcf496-79ce-415a-86c3-52f1902fb1d3"
      },
      "outputs": [
        {
          "data": {
            "text/plain": [
              "array([1, 1, 0, 0, 0, 2], dtype=int32)"
            ]
          },
          "execution_count": 8,
          "metadata": {},
          "output_type": "execute_result"
        }
      ],
      "source": [
        "identified_clusters = kmeans.fit_predict(x)\n",
        "identified_clusters"
      ]
    },
    {
      "cell_type": "code",
      "execution_count": null,
      "metadata": {
        "id": "iPWGW1C4zAwi",
        "outputId": "64f7036a-6249-4999-e4cc-c5d932f3d3b5"
      },
      "outputs": [
        {
          "data": {
            "text/plain": [
              "<matplotlib.collections.PathCollection at 0x7fd3dc2d4790>"
            ]
          },
          "execution_count": 9,
          "metadata": {},
          "output_type": "execute_result"
        },
        {
          "data": {
            "image/png": "[encoded data removed]",
            "text/plain": [
              "<Figure size 432x288 with 1 Axes>"
            ]
          },
          "metadata": {
            "needs_background": "light"
          },
          "output_type": "display_data"
        }
      ],
      "source": [
        "data_with_clusters = data.copy()\n",
        "data_with_clusters['Clusters'] = identified_clusters\n",
        "plt.scatter(data_with_clusters['Longitude'],data_with_clusters['Latitude'],c=data_with_clusters['Clusters'],cmap='rainbow')"
      ]
    },
    {
      "cell_type": "markdown",
      "metadata": {
        "id": "rjDvSY1dzAwj"
      },
      "source": [
        "## Elbow Method to Determine Optimal Number of Clusters using SSE"
      ]
    },
    {
      "cell_type": "markdown",
      "metadata": {
        "id": "EZl4cWlqzAwk"
      },
      "source": [
        "__n_clusters:__ This parameter specifies the number of clusters to form. In the example code, it is set to k, which is a variable that iterates from 1 to 6 to evaluate the optimal number of clusters.\n",
        "\n",
        "__max_iter:__ This parameter specifies the maximum number of iterations for each run of the K-means algorithm. The algorithm will stop iterating if the convergence criterion is met before the maximum number of iterations is reached. In the example code, it is set to 300."
      ]
    },
    {
      "cell_type": "code",
      "execution_count": null,
      "metadata": {
        "id": "ywOP6TzPzAwl",
        "outputId": "2f27e96d-9703-4129-8873-d3ce3365d920"
      },
      "outputs": [
        {
          "data": {
            "image/png": "[encoded data removed]",
            "text/plain": [
              "<Figure size 432x288 with 1 Axes>"
            ]
          },
          "metadata": {
            "needs_background": "light"
          },
          "output_type": "display_data"
        }
      ],
      "source": [
        "sse = []\n",
        "for k in range(1, 7):\n",
        "    kmeans = KMeans(n_clusters=k, max_iter=300, random_state=0)\n",
        "    kmeans.fit(x)\n",
        "    sse.append(kmeans.inertia_)\n",
        "\n",
        "number_clusters = range(1, 7)\n",
        "plt.plot(number_clusters, sse)\n",
        "plt.title('Elbow Method')\n",
        "plt.xlabel('Number of Clusters')\n",
        "plt.ylabel('SSE')\n",
        "plt.show()"
      ]
    },
    {
      "cell_type": "code",
      "execution_count": null,
      "metadata": {
        "id": "vE8GhRlmzAwm"
      },
      "outputs": [],
      "source": [
        "new_data = x"
      ]
    },
    {
      "cell_type": "code",
      "execution_count": null,
      "metadata": {
        "id": "103Xv0VJzAwm"
      },
      "outputs": [],
      "source": [
        "# Assuming the optimum number of clusters is 3 and you have new data 'new_data'\n",
        "kmeans = KMeans(n_clusters=3, max_iter=300, n_init=10, random_state=0)\n",
        "kmeans.fit(x)\n",
        "labels = kmeans.predict(new_data)"
      ]
    },
    {
      "cell_type": "code",
      "execution_count": null,
      "metadata": {
        "id": "-CPpbYvLzAwm",
        "outputId": "4d3f65d3-77d9-436e-a0d7-a891141acafe"
      },
      "outputs": [
        {
          "data": {
            "text/plain": [
              "array([2, 2, 0, 0, 0, 1], dtype=int32)"
            ]
          },
          "execution_count": 13,
          "metadata": {},
          "output_type": "execute_result"
        }
      ],
      "source": [
        "labels"
      ]
    },
    {
      "cell_type": "code",
      "execution_count": null,
      "metadata": {
        "id": "_tj51W-nzAwn"
      },
      "outputs": [],
      "source": []
    },
    {
      "cell_type": "markdown",
      "metadata": {},
      "source": [
        "<h1><b><Center>MY IMPLEMENTATION"
      ]
    },
    {
      "cell_type": "code",
      "execution_count": 1,
      "metadata": {},
      "outputs": [
        {
          "name": "stdout",
          "output_type": "stream",
          "text": [
            "       Name  Height  Weight\n",
            "0     Alice     150      45\n",
            "1       Bob     160      55\n",
            "2   Charlie     165      65\n",
            "3     David     170      72\n",
            "4       Eva     155      48\n",
            "5     Frank     180      80\n",
            "6     Grace     158      52\n",
            "7      Hank     175      78\n",
            "8       Ivy     162      60\n",
            "9      Jack     185      90\n",
            "10    Karen     168      70\n",
            "11      Leo     182      85\n",
            "12     Mona     153      46\n",
            "13     Nina     157      50\n",
            "14    Oscar     178      76\n"
          ]
        }
      ],
      "source": [
        "from sklearn.cluster import KMeans\n",
        "import pandas as pd \n",
        "data = pd.read_csv('data.csv')\n",
        "print(data)"
      ]
    },
    {
      "cell_type": "code",
      "execution_count": 11,
      "metadata": {},
      "outputs": [
        {
          "name": "stdout",
          "output_type": "stream",
          "text": [
            "[0 0 2 2 0 1 0 1 2 1 2 1 0 0 1]\n",
            "       Name  Height  Weight  Cluster\n",
            "0     Alice     150      45        0\n",
            "1       Bob     160      55        0\n",
            "2   Charlie     165      65        2\n",
            "3     David     170      72        2\n",
            "4       Eva     155      48        0\n",
            "5     Frank     180      80        1\n",
            "6     Grace     158      52        0\n",
            "7      Hank     175      78        1\n",
            "8       Ivy     162      60        2\n",
            "9      Jack     185      90        1\n",
            "10    Karen     168      70        2\n",
            "11      Leo     182      85        1\n",
            "12     Mona     153      46        0\n",
            "13     Nina     157      50        0\n",
            "14    Oscar     178      76        1\n"
          ]
        }
      ],
      "source": [
        "x = data \n",
        "x=x.drop([\"Name\"],axis=1)\n",
        "k = KMeans(3)\n",
        "k.fit(x)\n",
        "predict = k.fit_predict(x)\n",
        "print(predict)\n",
        "x=data \n",
        "x[\"Cluster\"]=predict\n",
        "print(x)"
      ]
    },
    {
      "cell_type": "code",
      "execution_count": 15,
      "metadata": {},
      "outputs": [
        {
          "data": {
            "image/png": "[encoded data removed]",
            "text/plain": [
              "<Figure size 640x480 with 1 Axes>"
            ]
          },
          "metadata": {},
          "output_type": "display_data"
        }
      ],
      "source": [
        "import matplotlib.pyplot as plt\n",
        "plt.scatter(data[\"Height\"], data[\"Weight\"], c=data[\"Cluster\"])\n",
        "plt.xlabel(\"Height\")\n",
        "plt.ylabel(\"Weight\")\n",
        "plt.title(\"K-Means Clustering on People\")\n",
        "plt.show()"
      ]
    },
    {
      "cell_type": "code",
      "execution_count": null,
      "metadata": {},
      "outputs": [],
      "source": []
    },
    {
      "cell_type": "markdown",
      "metadata": {},
      "source": [
        "Absolutely! I think you meant **Matplotlib**, not MATLAB (common mix-up 🙂). Let’s dive into the **types of plots in Matplotlib**, how to use them, and what their key arguments are.\n",
        "\n",
        "---\n",
        "\n",
        "### ✅ **Matplotlib – Main Plot Types and Their Arguments**\n",
        "\n",
        "Matplotlib (especially `pyplot` module) is used for **creating static, animated, and interactive plots** in Python.\n",
        "\n",
        "```python\n",
        "import matplotlib.pyplot as plt\n",
        "```\n",
        "\n",
        "---\n",
        "\n",
        "### 🔹 1. **Line Plot** – `plt.plot()`\n",
        "\n",
        "```python\n",
        "plt.plot(x, y, color='blue', linestyle='--', marker='o', label='Line A')\n",
        "```\n",
        "\n",
        "**Arguments**:\n",
        "\n",
        "* `x`, `y` – Data points\n",
        "* `color` – Line color (e.g., 'r', 'g', '#00FF00')\n",
        "* `linestyle` – `'-'`, `'--'`, `':'`, `'-.`\n",
        "* `marker` – `'o'`, `'s'`, `'*'`, etc.\n",
        "* `label` – For legends\n",
        "\n",
        "---\n",
        "\n",
        "### 🔹 2. **Scatter Plot** – `plt.scatter()`\n",
        "\n",
        "```python\n",
        "plt.scatter(x, y, color='red', marker='x', s=100, alpha=0.6)\n",
        "```\n",
        "\n",
        "**Arguments**:\n",
        "\n",
        "* `x`, `y` – Coordinates\n",
        "* `color` – Marker color\n",
        "* `marker` – Marker style\n",
        "* `s` – Size of markers\n",
        "* `alpha` – Transparency (0 to 1)\n",
        "\n",
        "---\n",
        "\n",
        "### 🔹 3. **Bar Chart** – `plt.bar()` (vertical), `plt.barh()` (horizontal)\n",
        "\n",
        "```python\n",
        "plt.bar(categories, values, color='green', width=0.5)\n",
        "```\n",
        "\n",
        "**Arguments**:\n",
        "\n",
        "* `x`, `height` – Positions and heights\n",
        "* `color`\n",
        "* `width` – Bar width\n",
        "\n",
        "---\n",
        "\n",
        "### 🔹 4. **Histogram** – `plt.hist()`\n",
        "\n",
        "```python\n",
        "plt.hist(data, bins=10, color='purple', edgecolor='black')\n",
        "```\n",
        "\n",
        "**Arguments**:\n",
        "\n",
        "* `data` – Array-like input\n",
        "* `bins` – Number of bins\n",
        "* `color`, `edgecolor`\n",
        "\n",
        "---\n",
        "\n",
        "### 🔹 5. **Pie Chart** – `plt.pie()`\n",
        "\n",
        "```python\n",
        "plt.pie(sizes, labels=labels, autopct='%1.1f%%', startangle=140)\n",
        "```\n",
        "\n",
        "**Arguments**:\n",
        "\n",
        "* `sizes` – Portion sizes\n",
        "* `labels` – Label names\n",
        "* `autopct` – Display percentage\n",
        "* `startangle` – Rotation\n",
        "\n",
        "---\n",
        "\n",
        "### 🔹 6. **Box Plot** – `plt.boxplot()`\n",
        "\n",
        "```python\n",
        "plt.boxplot(data)\n",
        "```\n",
        "\n",
        "**Arguments**:\n",
        "\n",
        "* `data` – List of datasets\n",
        "* Optional: `vert`, `patch_artist`, `notch`\n",
        "\n",
        "---\n",
        "\n",
        "### 🔹 7. **Heatmap** (via `imshow()` or Seaborn)\n",
        "\n",
        "```python\n",
        "plt.imshow(matrix, cmap='hot', interpolation='nearest')\n",
        "```\n",
        "\n",
        "**Arguments**:\n",
        "\n",
        "* `matrix` – 2D array\n",
        "* `cmap` – Color map (`'hot'`, `'cool'`, `'viridis'`, etc.)\n",
        "* `interpolation`\n",
        "\n",
        "---\n",
        "\n",
        "### ✅ Common Plot Settings for All:\n",
        "\n",
        "```python\n",
        "plt.title(\"Title Here\")\n",
        "plt.xlabel(\"X-Axis\")\n",
        "plt.ylabel(\"Y-Axis\")\n",
        "plt.legend()\n",
        "plt.grid(True)\n",
        "plt.show()\n",
        "```\n",
        "\n",
        "---\n",
        "\n",
        "Would you like a cheat sheet summary or image showing all these visually? And when you're ready, you can go ahead with what you know about **Seaborn**, or we can move to the next topic like **Agents**.\n"
      ]
    },
    {
      "cell_type": "markdown",
      "metadata": {},
      "source": []
    }
  ],
  "metadata": {
    "colab": {
      "provenance": []
    },
    "kernelspec": {
      "display_name": "jupyter-venv",
      "language": "python",
      "name": "python3"
    },
    "language_info": {
      "codemirror_mode": {
        "name": "ipython",
        "version": 3
      },
      "file_extension": ".py",
      "mimetype": "text/x-python",
      "name": "python",
      "nbconvert_exporter": "python",
      "pygments_lexer": "ipython3",
      "version": "3.12.3"
    }
  },
  "nbformat": 4,
  "nbformat_minor": 0
}
